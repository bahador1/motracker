{
 "cells": [
  {
   "cell_type": "markdown",
   "metadata": {},
   "source": [
    "## Multiple object tracking with YOLOv3-based object detection"
   ]
  },
  {
   "cell_type": "code",
   "execution_count": 2,
   "metadata": {},
   "outputs": [],
   "source": [
    "import numpy as np\n",
    "import cv2 as cv\n",
    "from motrackers.detectors import YOLOv3\n",
    "from motrackers import CentroidTracker, CentroidKF_Tracker, SORT, IOUTracker\n",
    "from motrackers.utils import draw_tracks\n",
    "import ipywidgets as widgets\n",
    "import csv"
   ]
  },
  {
   "cell_type": "code",
   "execution_count": 14,
   "metadata": {},
   "outputs": [],
   "source": [
    "# VIDEO_FILE = \"./../video_data/cars.mp4\"\n",
    "WEIGHTS_PATH = './../pretrained_models/yolo_weights/yolov3.weights'\n",
    "CONFIG_FILE_PATH = './../pretrained_models/yolo_weights/yolov3.cfg'\n",
    "LABELS_PATH = \"./../pretrained_models/yolo_weights/coco_names.json\"\n",
    "\n",
    "CONFIDENCE_THRESHOLD = 0.5\n",
    "NMS_THRESHOLD = 0.2\n",
    "DRAW_BOUNDING_BOXES = True\n",
    "USE_GPU = False\n",
    "\n",
    "chosen_tracker = widgets.Select(\n",
    "    options=[\"CentroidTracker\", \"CentroidKF_Tracker\", \"SORT\", \"IOUTracker\"],\n",
    "    value='IOUTracker',\n",
    "    rows=5,\n",
    "    description='MOTracker:',\n",
    "    disabled=False\n",
    ")\n",
    "chosen_tracker\n",
    "\n",
    "if chosen_tracker.value == 'CentroidTracker':\n",
    "    tracker = CentroidTracker(max_lost=0, tracker_output_format='mot_challenge')\n",
    "elif chosen_tracker.value == 'CentroidKF_Tracker':\n",
    "    tracker = CentroidKF_Tracker(max_lost=0, tracker_output_format='mot_challenge')\n",
    "elif chosen_tracker.value == 'SORT':\n",
    "    tracker = SORT(max_lost=3, tracker_output_format='mot_challenge', iou_threshold=0.3)\n",
    "elif chosen_tracker.value == 'IOUTracker':\n",
    "    tracker = IOUTracker(max_lost=2, iou_threshold=0.5, min_detection_confidence=0.4, max_detection_confidence=0.7,\n",
    "                         tracker_output_format='mot_challenge')\n",
    "else:\n",
    "    print(\"Please choose one tracker from the above list.\")\n",
    "\n",
    "model = YOLOv3(\n",
    "    weights_path=WEIGHTS_PATH,\n",
    "    configfile_path=CONFIG_FILE_PATH,\n",
    "    labels_path=LABELS_PATH,\n",
    "    confidence_threshold=CONFIDENCE_THRESHOLD,\n",
    "    nms_threshold=NMS_THRESHOLD,\n",
    "    draw_bboxes=DRAW_BOUNDING_BOXES,\n",
    "    use_gpu=USE_GPU\n",
    ")\n",
    "\n",
    "def main(video_path, model, tracker):\n",
    "    \n",
    "    cap = cv.VideoCapture(video_path)\n",
    "    length = int(cap.get(cv.CAP_PROP_FRAME_COUNT))\n",
    "\n",
    "    out = cv.VideoWriter('result.mp4', -1, 20.0, (700,500))\n",
    "    with open ('results.csv', 'w') as f:\n",
    "        thewriter = csv.writer(f)\n",
    "        thewriter.writerow(['frame_number', 'objects', \"tracks\"])\n",
    "        for frame_number in  range(1, length+1):\n",
    "            ok, image = cap.read()\n",
    "\n",
    "            if not ok:\n",
    "                print(\"Cannot read the video feed.\")\n",
    "                break\n",
    "            image = cv.resize(image, (700, 500))\n",
    "            bboxes, confidences, class_ids = model.detect(image)\n",
    "            \n",
    "            tracks = tracker.update(bboxes, confidences, class_ids)\n",
    "            updated_image, all_label = model.draw_bboxes(image.copy(), bboxes, confidences, class_ids)#comes from detector/do nothing\n",
    "            \n",
    "            print(updated_image.dtype)\n",
    "            print(updated_image.shape)\n",
    "            updated_image, tracks_all = draw_tracks(updated_image, tracks)\n",
    "            \n",
    "            out.write(updated_image)\n",
    "            cv.imshow(\"liora3\", updated_image)\n",
    "            thewriter.writerow([frame_number, all_label, tracks_all])\n",
    "            if cv.waitKey(1) & 0xFF == ord('q'):\n",
    "                break\n",
    "        \n",
    "\n",
    "\n",
    "    cap.release()\n",
    "    out.release()\n",
    "    cv.destroyAllWindows()\n",
    "\n",
    "main(0, model, tracker)"
   ]
  },
  {
   "cell_type": "code",
   "execution_count": 5,
   "metadata": {},
   "outputs": [
    {
     "name": "stdout",
     "output_type": "stream",
     "text": [
      "uint8\n",
      "(500, 700, 3)\n",
      "uint8\n",
      "(500, 700, 3)\n",
      "uint8\n",
      "(500, 700, 3)\n",
      "uint8\n",
      "(500, 700, 3)\n"
     ]
    }
   ],
   "source": [
    "# VIDEO_FILE = \"./../video_data/cars.mp4\"\n",
    "WEIGHTS_PATH = './../pretrained_models/yolo_weights/yolov3.weights'\n",
    "CONFIG_FILE_PATH = './../pretrained_models/yolo_weights/yolov3.cfg'\n",
    "LABELS_PATH = \"./../pretrained_models/yolo_weights/coco_names.json\"\n",
    "\n",
    "CONFIDENCE_THRESHOLD = 0.5\n",
    "NMS_THRESHOLD = 0.2\n",
    "DRAW_BOUNDING_BOXES = True\n",
    "USE_GPU = False\n",
    "\n",
    "chosen_tracker = widgets.Select(\n",
    "    options=[\"CentroidTracker\", \"CentroidKF_Tracker\", \"SORT\", \"IOUTracker\"],\n",
    "    value='IOUTracker',\n",
    "    rows=5,\n",
    "    description='MOTracker:',\n",
    "    disabled=False\n",
    ")\n",
    "chosen_tracker\n",
    "\n",
    "if chosen_tracker.value == 'CentroidTracker':\n",
    "    tracker = CentroidTracker(max_lost=0, tracker_output_format='mot_challenge')\n",
    "elif chosen_tracker.value == 'CentroidKF_Tracker':\n",
    "    tracker = CentroidKF_Tracker(max_lost=0, tracker_output_format='mot_challenge')\n",
    "elif chosen_tracker.value == 'SORT':\n",
    "    tracker = SORT(max_lost=3, tracker_output_format='mot_challenge', iou_threshold=0.3)\n",
    "elif chosen_tracker.value == 'IOUTracker':\n",
    "    tracker = IOUTracker(max_lost=2, iou_threshold=0.5, min_detection_confidence=0.4, max_detection_confidence=0.7,\n",
    "                         tracker_output_format='mot_challenge')\n",
    "else:\n",
    "    print(\"Please choose one tracker from the above list.\")\n",
    "\n",
    "model = YOLOv3(\n",
    "    weights_path=WEIGHTS_PATH,\n",
    "    configfile_path=CONFIG_FILE_PATH,\n",
    "    labels_path=LABELS_PATH,\n",
    "    confidence_threshold=CONFIDENCE_THRESHOLD,\n",
    "    nms_threshold=NMS_THRESHOLD,\n",
    "    draw_bboxes=DRAW_BOUNDING_BOXES,\n",
    "    use_gpu=USE_GPU\n",
    ")\n",
    "\n",
    "def main(video_path, model, tracker):\n",
    "    \n",
    "    cap = cv.VideoCapture(video_path)\n",
    "    length = int(cap.get(cv.CAP_PROP_FRAME_COUNT))\n",
    "\n",
    "    out = cv.VideoWriter('result.mp4', -1, 20.0, (700,500))\n",
    "    with open ('results.csv', 'w') as f:\n",
    "        thewriter = csv.writer(f)\n",
    "        thewriter.writerow(['frame_number', 'objects', \"tracks\"])\n",
    "        count = 1\n",
    "        while True:\n",
    "    #     for frame_number in  range(1, length+1):\n",
    "            ok, image = cap.read()\n",
    "\n",
    "            if not ok:\n",
    "                print(\"Cannot read the video feed.\")\n",
    "                break\n",
    "            image = cv.resize(image, (700, 500))\n",
    "            bboxes, confidences, class_ids = model.detect(image)\n",
    "\n",
    "            tracks = tracker.update(bboxes, confidences, class_ids)\n",
    "            updated_image, all_label = model.draw_bboxes(image.copy(), bboxes, confidences, class_ids)#comes from detector/do nothing\n",
    "\n",
    "            print(updated_image.dtype)\n",
    "            print(updated_image.shape)\n",
    "            updated_image, tracks_all = draw_tracks(updated_image, tracks)\n",
    "\n",
    "            out.write(updated_image)\n",
    "            cv.imshow(\"liora3\", updated_image)\n",
    "            thewriter.writerow([count, all_label, tracks_all])\n",
    "            count+1\n",
    "            if cv.waitKey(1) & 0xFF == ord('q'):\n",
    "                break\n",
    "\n",
    "\n",
    "\n",
    "        cap.release()\n",
    "        out.release()\n",
    "        cv.destroyAllWindows()\n",
    "\n",
    "main(\"./../video_data/cars.mp4\" , model, tracker)"
   ]
  },
  {
   "cell_type": "code",
   "execution_count": 22,
   "metadata": {},
   "outputs": [],
   "source": [
    " cv.destroyAllWindows()"
   ]
  },
  {
   "cell_type": "code",
   "execution_count": 17,
   "metadata": {},
   "outputs": [
    {
     "ename": "NameError",
     "evalue": "name 'cap' is not defined",
     "output_type": "error",
     "traceback": [
      "\u001b[1;31m---------------------------------------------------------------------------\u001b[0m",
      "\u001b[1;31mNameError\u001b[0m                                 Traceback (most recent call last)",
      "\u001b[1;32m<ipython-input-17-e0a928c10214>\u001b[0m in \u001b[0;36m<module>\u001b[1;34m\u001b[0m\n\u001b[1;32m----> 1\u001b[1;33m \u001b[0mcap\u001b[0m\u001b[1;33m.\u001b[0m\u001b[0mrelease\u001b[0m\u001b[1;33m(\u001b[0m\u001b[1;33m)\u001b[0m\u001b[1;33m\u001b[0m\u001b[1;33m\u001b[0m\u001b[0m\n\u001b[0m",
      "\u001b[1;31mNameError\u001b[0m: name 'cap' is not defined"
     ]
    }
   ],
   "source": [
    " cap.release()"
   ]
  },
  {
   "cell_type": "code",
   "execution_count": 18,
   "metadata": {},
   "outputs": [
    {
     "ename": "NameError",
     "evalue": "name 'out' is not defined",
     "output_type": "error",
     "traceback": [
      "\u001b[1;31m---------------------------------------------------------------------------\u001b[0m",
      "\u001b[1;31mNameError\u001b[0m                                 Traceback (most recent call last)",
      "\u001b[1;32m<ipython-input-18-23360626c1cd>\u001b[0m in \u001b[0;36m<module>\u001b[1;34m\u001b[0m\n\u001b[1;32m----> 1\u001b[1;33m \u001b[0mout\u001b[0m\u001b[1;33m.\u001b[0m\u001b[0mrelease\u001b[0m\u001b[1;33m(\u001b[0m\u001b[1;33m)\u001b[0m\u001b[1;33m\u001b[0m\u001b[1;33m\u001b[0m\u001b[0m\n\u001b[0m",
      "\u001b[1;31mNameError\u001b[0m: name 'out' is not defined"
     ]
    }
   ],
   "source": [
    "    out.release()\n"
   ]
  },
  {
   "cell_type": "code",
   "execution_count": null,
   "metadata": {},
   "outputs": [],
   "source": []
  }
 ],
 "metadata": {
  "kernelspec": {
   "display_name": "object-tracking",
   "language": "python",
   "name": "object-tracking"
  },
  "language_info": {
   "codemirror_mode": {
    "name": "ipython",
    "version": 3
   },
   "file_extension": ".py",
   "mimetype": "text/x-python",
   "name": "python",
   "nbconvert_exporter": "python",
   "pygments_lexer": "ipython3",
   "version": "3.7.3"
  }
 },
 "nbformat": 4,
 "nbformat_minor": 4
}
